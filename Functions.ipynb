{
  "nbformat": 4,
  "nbformat_minor": 0,
  "metadata": {
    "colab": {
      "provenance": [],
      "include_colab_link": true
    },
    "kernelspec": {
      "name": "python3",
      "display_name": "Python 3"
    },
    "language_info": {
      "name": "python"
    }
  },
  "cells": [
    {
      "cell_type": "markdown",
      "metadata": {
        "id": "view-in-github",
        "colab_type": "text"
      },
      "source": [
        "<a href=\"https://colab.research.google.com/github/VANSHG2005/Python/blob/main/Functions.ipynb\" target=\"_parent\"><img src=\"https://colab.research.google.com/assets/colab-badge.svg\" alt=\"Open In Colab\"/></a>"
      ]
    },
    {
      "cell_type": "markdown",
      "metadata": {
        "id": "if7mXXYjlI5a"
      },
      "source": [
        "# Functions\n",
        "\n",
        "Functions will be one of our main building blocks when we construct larger and larger amounts of code to solve problems.\n",
        "\n",
        "**So what is a function?**\n",
        "\n",
        "Formally, a function is a useful device that groups together a set of statements so they can be run more than once. They can also let us specify parameters that can serve as inputs to the functions.\n",
        "\n",
        "On a more fundamental level, functions allow us to not have to repeatedly write the same code again and again. If you remember back to the lessons on strings and lists, remember that we used a function <code>len()</code> to get the length of a string. Since checking the length of a sequence is a common task you would want to write a function that can do this repeatedly at command.\n",
        "\n",
        "Functions will be one of the most basic levels of **reusing code in Python**."
      ]
    },
    {
      "cell_type": "markdown",
      "metadata": {
        "id": "LQDR0mzFlI5f"
      },
      "source": [
        "## <code>def</code> Statements\n",
        "\n",
        "Let's see how to build out a function's syntax in Python. It has the following form:"
      ]
    },
    {
      "cell_type": "code",
      "source": [
        "def example_function(arg1, arg2):\n",
        "  '''\n",
        "  This is where the function's Document String (docstring) goes\n",
        "  '''\n",
        "  # Do stuff here\n",
        "  return desired_result"
      ],
      "metadata": {
        "id": "0J2pDROeyvpc"
      },
      "execution_count": null,
      "outputs": []
    },
    {
      "cell_type": "code",
      "source": [
        "n = 10\n",
        "a = list(range(1,n+1))\n",
        "print(a)\n",
        "fec = 1\n",
        "for i in range(1,n+1):\n",
        "  fec = fec*i\n",
        "print(fec)"
      ],
      "metadata": {
        "colab": {
          "base_uri": "https://localhost:8080/"
        },
        "id": "vzoJ4sly1o-D",
        "outputId": "cd7591d7-18f0-4547-fd59-547c8607fa00"
      },
      "execution_count": null,
      "outputs": [
        {
          "output_type": "stream",
          "name": "stdout",
          "text": [
            "[1, 2, 3, 4, 5, 6, 7, 8, 9, 10]\n",
            "3628800\n"
          ]
        }
      ]
    },
    {
      "cell_type": "code",
      "source": [
        "def fe(n):\n",
        "  a = list(range(1,n+1))\n",
        "  print(a)\n",
        "  fec = 1\n",
        "  for i in range(1,n+1):\n",
        "    fec = fec*i\n",
        "  return(fec)"
      ],
      "metadata": {
        "id": "ob6WOESv17to"
      },
      "execution_count": null,
      "outputs": []
    },
    {
      "cell_type": "code",
      "source": [
        "fe(100)"
      ],
      "metadata": {
        "colab": {
          "base_uri": "https://localhost:8080/"
        },
        "id": "sSAvEIUs2UVq",
        "outputId": "44205488-2c9a-4f8d-bfc4-4b754f21e1d6"
      },
      "execution_count": null,
      "outputs": [
        {
          "output_type": "stream",
          "name": "stdout",
          "text": [
            "[1, 2, 3, 4, 5, 6, 7, 8, 9, 10, 11, 12, 13, 14, 15, 16, 17, 18, 19, 20, 21, 22, 23, 24, 25, 26, 27, 28, 29, 30, 31, 32, 33, 34, 35, 36, 37, 38, 39, 40, 41, 42, 43, 44, 45, 46, 47, 48, 49, 50, 51, 52, 53, 54, 55, 56, 57, 58, 59, 60, 61, 62, 63, 64, 65, 66, 67, 68, 69, 70, 71, 72, 73, 74, 75, 76, 77, 78, 79, 80, 81, 82, 83, 84, 85, 86, 87, 88, 89, 90, 91, 92, 93, 94, 95, 96, 97, 98, 99, 100]\n"
          ]
        },
        {
          "output_type": "execute_result",
          "data": {
            "text/plain": [
              "93326215443944152681699238856266700490715968264381621468592963895217599993229915608941463976156518286253697920827223758251185210916864000000000000000000000000"
            ]
          },
          "metadata": {},
          "execution_count": 19
        }
      ]
    },
    {
      "cell_type": "code",
      "source": [
        "def fact(x):\n",
        "  factx=1\n",
        "  for i in range(1,x+1):\n",
        "    factx=factx*i\n",
        "  return factx\n",
        "fact(3)"
      ],
      "metadata": {
        "id": "1-kjAmOL1jdF"
      },
      "execution_count": null,
      "outputs": []
    },
    {
      "cell_type": "markdown",
      "metadata": {
        "id": "k6csqQJrlI8J"
      },
      "source": [
        "##<u> Example 3</u>: Let us write a function which takes a date as a string and prints the quarter as output.\n",
        "\n",
        "### Remember it is not required that functions will return a value. This is an example of such functions\n"
      ]
    },
    {
      "cell_type": "code",
      "source": [
        "\n",
        "def fn(string):\n",
        "  month = string[5:7]\n",
        "  if int(month) in range(1,4):\n",
        "    print(\"First quarter\")\n",
        "  elif int(month) in range(4,7):\n",
        "    print(\"Second quarter\")\n",
        "  elif int(month) in range(7,10):\n",
        "    print(\"Third quarter\")\n",
        "  else:\n",
        "    print(\"Fourth quarter\")\n",
        "fn(\"2020-07-01\")"
      ],
      "metadata": {
        "colab": {
          "base_uri": "https://localhost:8080/"
        },
        "id": "HzJYMsbE3MoN",
        "outputId": "b0e3efab-9ee6-4d3c-bac8-046ed895725b"
      },
      "execution_count": null,
      "outputs": [
        {
          "output_type": "stream",
          "name": "stdout",
          "text": [
            "Third quarter\n"
          ]
        }
      ]
    },
    {
      "cell_type": "code",
      "source": [
        "def quarter(date):\n",
        "  month = date.split(\"-\")\n",
        "  if int(month[1]) in [1,2,3]:\n",
        "    return \"Q1\"\n",
        "  elif int(month[1]) in [4,5,6]:\n",
        "    return \"Q2\"\n",
        "  elif int(month[1]) in [7,8,9]:\n",
        "    return \"Q3\"\n",
        "  elif int(month[1]) in [10,11,12]:\n",
        "    return \"Q4\"\n",
        "  else:\n",
        "    return \"Invalid Date\"\n",
        "\n",
        "date = input(\"Enter a date: \")\n",
        "print(quarter(date))"
      ],
      "metadata": {
        "id": "viaHzqcK5t6C"
      },
      "execution_count": null,
      "outputs": []
    },
    {
      "cell_type": "code",
      "source": [
        "a=[1,2,3,4,5]\n",
        "value=100\n",
        "index=3\n",
        "\n",
        "a = a[:index] + [value] + a[index:]\n",
        "print(a)"
      ],
      "metadata": {
        "colab": {
          "base_uri": "https://localhost:8080/"
        },
        "id": "rfmG8hQP6X8Z",
        "outputId": "44c2bd21-b4d4-426a-b7ab-795d94d96074"
      },
      "execution_count": null,
      "outputs": [
        {
          "output_type": "stream",
          "name": "stdout",
          "text": [
            "[1, 2, 3, 100, 4, 5]\n"
          ]
        }
      ]
    },
    {
      "cell_type": "code",
      "source": [],
      "metadata": {
        "id": "DbLNb9xs-J-x"
      },
      "execution_count": null,
      "outputs": []
    }
  ]
}