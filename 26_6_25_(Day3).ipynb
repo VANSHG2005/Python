{
  "nbformat": 4,
  "nbformat_minor": 0,
  "metadata": {
    "colab": {
      "provenance": [],
      "include_colab_link": true
    },
    "kernelspec": {
      "name": "python3",
      "display_name": "Python 3"
    },
    "language_info": {
      "name": "python"
    }
  },
  "cells": [
    {
      "cell_type": "markdown",
      "metadata": {
        "id": "view-in-github",
        "colab_type": "text"
      },
      "source": [
        "<a href=\"https://colab.research.google.com/github/VANSHG2005/Python/blob/main/26_6_25_(Day3).ipynb\" target=\"_parent\"><img src=\"https://colab.research.google.com/assets/colab-badge.svg\" alt=\"Open In Colab\"/></a>"
      ]
    },
    {
      "cell_type": "code",
      "execution_count": null,
      "metadata": {
        "colab": {
          "base_uri": "https://localhost:8080/"
        },
        "id": "Pa24QmMArTKb",
        "outputId": "48b6c556-5ee6-47b7-c3ec-e18b60b3e71a"
      },
      "outputs": [
        {
          "output_type": "stream",
          "name": "stdout",
          "text": [
            "[0, 4, 16, 36, 64, 100]\n"
          ]
        }
      ],
      "source": [
        "helk = [i**2 for i in range(0,11) if i%2 == 0]\n",
        "print(k)"
      ]
    },
    {
      "cell_type": "code",
      "source": [
        "k = [i**2 if i%2 == 0 else i**3 for i in range(0,11) ]\n",
        "print(k)"
      ],
      "metadata": {
        "colab": {
          "base_uri": "https://localhost:8080/"
        },
        "id": "7KjDyNmrsDwh",
        "outputId": "a943307e-fccd-42e2-eda2-d90055c6e299"
      },
      "execution_count": null,
      "outputs": [
        {
          "output_type": "stream",
          "name": "stdout",
          "text": [
            "[0, 1, 4, 27, 16, 125, 36, 343, 64, 729, 100]\n"
          ]
        }
      ]
    },
    {
      "cell_type": "code",
      "source": [
        "heisenberg_quote = \"It cease to exist without me\"\n",
        "sq = heisenberg_quote.split()\n",
        "uw = { i[0] for i in sq }\n",
        "print(uw)"
      ],
      "metadata": {
        "colab": {
          "base_uri": "https://localhost:8080/"
        },
        "id": "g30KaEf0voN2",
        "outputId": "3b2c9c65-2a2a-4cc7-a763-ea78068ce2e0"
      },
      "execution_count": null,
      "outputs": [
        {
          "output_type": "stream",
          "name": "stdout",
          "text": [
            "{'t', 'm', 'I', 'c', 'w', 'e'}\n"
          ]
        }
      ]
    },
    {
      "cell_type": "code",
      "source": [
        "fact=1\n",
        "num=int(input(\"Enter a number: \"))\n",
        "for i in range(1,num+1):\n",
        "    fact*=i\n",
        "print(fact)"
      ],
      "metadata": {
        "colab": {
          "base_uri": "https://localhost:8080/"
        },
        "id": "fbgWrTgV1ezm",
        "outputId": "6a7ebc0b-09c4-4ebf-adfc-447aeb90f226"
      },
      "execution_count": null,
      "outputs": [
        {
          "output_type": "stream",
          "name": "stdout",
          "text": [
            "Enter a number: 8\n",
            "40320\n"
          ]
        }
      ]
    },
    {
      "cell_type": "code",
      "source": [
        "def quarter(date):\n",
        "  month = date.split(\"-\")\n",
        "  if int(month[1]) in [1,2,3]:\n",
        "    return \"Q1\"\n",
        "  elif int(month[1]) in [4,5,6]:\n",
        "    return \"Q2\"\n",
        "  elif int(month[1]) in [7,8,9]:\n",
        "    return \"Q3\"\n",
        "  elif int(month[1]) in [10,11,12]:\n",
        "    return \"Q4\"\n",
        "  else:\n",
        "    return \"Invalid Date\"\n",
        "\n",
        "date = input(\"Enter a date: \")\n",
        "print(quarter(date))"
      ],
      "metadata": {
        "colab": {
          "base_uri": "https://localhost:8080/"
        },
        "id": "U7rVveMS3YQX",
        "outputId": "681d7723-16db-4f1e-817f-9785f06ff426"
      },
      "execution_count": null,
      "outputs": [
        {
          "output_type": "stream",
          "name": "stdout",
          "text": [
            "Enter a date: 2020-07-01\n",
            "['2020', '07', '01']\n",
            "Q3\n"
          ]
        }
      ]
    },
    {
      "cell_type": "code",
      "source": [
        "a = [1,2,3,4,5,6]\n",
        "value = 100\n",
        "index = 3\n",
        "a = a[:index+1] +[value] +a[index+1:]\n",
        "\n",
        "print(a)\n"
      ],
      "metadata": {
        "colab": {
          "base_uri": "https://localhost:8080/"
        },
        "id": "XjWfv1jA6cPD",
        "outputId": "ce696f76-7895-4589-f5a7-d5bbc7f7f042"
      },
      "execution_count": null,
      "outputs": [
        {
          "output_type": "stream",
          "name": "stdout",
          "text": [
            "[1, 2, 3, 4, 100, 5, 6]\n"
          ]
        }
      ]
    },
    {
      "cell_type": "code",
      "source": [
        "a = \"michael000smith004331000000\"\n",
        "b = a.replace(\"0\",\" \")\n",
        "print(b)\n",
        "e = b.split()\n",
        "print(e)\n",
        "c = [\"First Name\",\"Last Name\",\"ID\"]\n",
        "d = dict(zip(c,e))\n",
        "print(d)"
      ],
      "metadata": {
        "colab": {
          "base_uri": "https://localhost:8080/"
        },
        "id": "KmJzd25KmjGs",
        "outputId": "4559a433-41e3-4405-be72-a29c154cdcb1"
      },
      "execution_count": null,
      "outputs": [
        {
          "output_type": "stream",
          "name": "stdout",
          "text": [
            "michael   smith  4331      \n",
            "['michael', 'smith', '4331']\n",
            "{'First Name': 'michael', 'Last Name': 'smith', 'ID': '4331'}\n"
          ]
        }
      ]
    },
    {
      "cell_type": "code",
      "source": [
        "a = \"michael000smith004331\"\n",
        "#b = a.replace(\"0\",\" \")\n",
        "#print(b)\n",
        "e = a.split(\"0\")\n",
        "print(e)\n",
        "c = [\"First Name\",\"Last Name\",\"ID\"]\n",
        "d = {}\n",
        "d[c[0]] = e[0]\n",
        "d[c[2]] = e[-1]\n",
        "e[0] = \"\"\n",
        "e[-1] = \"\"\n",
        "d[c[1]] = \"\".join(e)\n",
        "print(d)"
      ],
      "metadata": {
        "colab": {
          "base_uri": "https://localhost:8080/"
        },
        "id": "DdiVWvs1oHam",
        "outputId": "36f40830-44c1-47fe-faa2-766f6262e63f"
      },
      "execution_count": null,
      "outputs": [
        {
          "output_type": "stream",
          "name": "stdout",
          "text": [
            "['michael', '', '', 'smith', '', '4331']\n",
            "{'First Name': 'michael', 'ID': '4331', 'Last Name': 'smith'}\n"
          ]
        }
      ]
    },
    {
      "cell_type": "code",
      "source": [
        "a = 'gfrregewrf'\n",
        "b = 'fsasagrg'\n",
        "d = []\n",
        "a = list(sorted(a))\n",
        "b = list(sorted(b))\n",
        "\n",
        "for i in a:\n",
        "  for j in b:\n",
        "    if i==j:\n",
        "      d.append(i)\n",
        "    else:\n",
        "      continue\n",
        "d = list(set(d))\n",
        "print(d)\n",
        "for i in a:\n",
        "  if i not in d:\n",
        "    a.remove(i)\n",
        "print(a)\n",
        "for j in b:\n",
        "  if j not in d:\n",
        "    b.remove(j)\n",
        "print(b)\n"
      ],
      "metadata": {
        "colab": {
          "base_uri": "https://localhost:8080/"
        },
        "id": "a3MdaiVXraam",
        "outputId": "b7cb9673-0ec8-4742-d595-a8bfc03a96ca"
      },
      "execution_count": null,
      "outputs": [
        {
          "output_type": "stream",
          "name": "stdout",
          "text": [
            "['g', 'f', 'r']\n",
            "['e', 'f', 'f', 'g', 'g', 'r', 'r', 'r']\n",
            "['a', 'f', 'g', 'g', 'r', 's']\n"
          ]
        }
      ]
    },
    {
      "cell_type": "code",
      "source": [
        "a = 'gfrregewrf'\n",
        "b = 'fsasagrg'\n",
        "\n",
        "a = ''.join(sorted(a))\n",
        "b = ''.join(sorted(b))\n",
        "\n",
        "print(a)\n",
        "print(b)\n",
        "\n",
        "def count(s):\n",
        "  count = {}\n",
        "  for i in s:\n",
        "    if i in count:\n",
        "      count[i] +=1\n",
        "    else:\n",
        "      count[i] = 1\n",
        "  return count\n",
        "\n",
        "count_a = count(a)\n",
        "count_b = count(b)\n",
        "print(count_a)\n",
        "print(count_b)\n",
        "\n",
        "common_counts = {}\n",
        "for i in count_a:\n",
        "    if i in count_b:\n",
        "        common_counts[i] = min(count_a[i], count_b[i])\n",
        "print(common_counts)\n",
        "\n",
        "a_2 = ''\n",
        "b_2 = ''\n",
        "for i in common_counts:\n",
        "  a_2 += i*common_counts[i]\n",
        "  b_2 += i*common_counts[i]\n",
        "\n",
        "print(a_2)\n",
        "print(b_2)\n",
        "\n",
        "removed_from_a = {}\n",
        "removed_from_b = {}\n",
        "\n",
        "for char in count_a:\n",
        "    removed_from_a[char] = count_a[char] - common_counts.get(char, 0)\n",
        "\n",
        "for char in count_b:\n",
        "    removed_from_b[char] = count_b[char] - common_counts.get(char, 0)\n",
        "\n",
        "# Remove chars with zero count\n",
        "removed_from_a = {k: v for k, v in removed_from_a.items() if v > 0}\n",
        "removed_from_b = {k: v for k, v in removed_from_b.items() if v > 0}\n",
        "\n",
        "print(\"Removed from a:\", removed_from_a)\n",
        "print(\"Removed from b:\", removed_from_b)"
      ],
      "metadata": {
        "colab": {
          "base_uri": "https://localhost:8080/"
        },
        "id": "GHs8JvgewiwT",
        "outputId": "61c9ec65-b455-488b-d81c-79bdda697a21"
      },
      "execution_count": null,
      "outputs": [
        {
          "output_type": "stream",
          "name": "stdout",
          "text": [
            "eeffggrrrw\n",
            "aafggrss\n",
            "{'e': 2, 'f': 2, 'g': 2, 'r': 3, 'w': 1}\n",
            "{'a': 2, 'f': 1, 'g': 2, 'r': 1, 's': 2}\n",
            "{'f': 1, 'g': 2, 'r': 1}\n",
            "fggr\n",
            "fggr\n",
            "Removed from a: {'e': 2, 'f': 1, 'g': 0, 'r': 2, 'w': 1}\n",
            "Removed from b: {'a': 2, 'f': 0, 'g': 0, 'r': 0, 's': 2}\n"
          ]
        }
      ]
    },
    {
      "cell_type": "code",
      "source": [],
      "metadata": {
        "id": "fLcK5W92yVBR"
      },
      "execution_count": null,
      "outputs": []
    }
  ]
}