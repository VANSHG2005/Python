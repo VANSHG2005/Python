{
  "nbformat": 4,
  "nbformat_minor": 0,
  "metadata": {
    "kernelspec": {
      "display_name": "Python 3",
      "language": "python",
      "name": "python3"
    },
    "language_info": {
      "codemirror_mode": {
        "name": "ipython",
        "version": 3
      },
      "file_extension": ".py",
      "mimetype": "text/x-python",
      "name": "python",
      "nbconvert_exporter": "python",
      "pygments_lexer": "ipython3",
      "version": "3.7.4"
    },
    "colab": {
      "provenance": [],
      "include_colab_link": true
    }
  },
  "cells": [
    {
      "cell_type": "markdown",
      "metadata": {
        "id": "view-in-github",
        "colab_type": "text"
      },
      "source": [
        "<a href=\"https://colab.research.google.com/github/VANSHG2005/Python/blob/main/Assignment1_Integers%2C_Floats_and_Booleans.ipynb\" target=\"_parent\"><img src=\"https://colab.research.google.com/assets/colab-badge.svg\" alt=\"Open In Colab\"/></a>"
      ]
    },
    {
      "cell_type": "markdown",
      "metadata": {
        "id": "8ECk3jeWDelY"
      },
      "source": [
        "## Problem 1\n",
        "\n",
        "In a football tournament, based on the outcome of a particular match a team gets following points:\n",
        "* wins - 3\n",
        "* draws - 2\n",
        "* losses - 0\n",
        "\n",
        "Team toppers plays 10 matches in this tournament. It wins 5 matches, loses 3 matches and draws 2. Show the total points achive by team toppers?"
      ]
    },
    {
      "cell_type": "code",
      "source": [
        "win = 3\n",
        "draw =  2\n",
        "losses = 0\n",
        "\n",
        "total_points =(5*win + 3*losses + 2*draw)\n",
        "print(total_points)"
      ],
      "metadata": {
        "id": "ynAy5qA7iYj9",
        "colab": {
          "base_uri": "https://localhost:8080/"
        },
        "outputId": "15d97617-68bb-406a-d4f7-2da53320f9d3"
      },
      "execution_count": null,
      "outputs": [
        {
          "output_type": "stream",
          "name": "stdout",
          "text": [
            "19\n"
          ]
        }
      ]
    },
    {
      "cell_type": "markdown",
      "metadata": {
        "id": "-ioInfYKDelh"
      },
      "source": [
        "## <u>Problem 2 </u>\n",
        "\n",
        "* Root of a function $f(x)$ is defined as the value $x$ where $f(x)=0$\n",
        "* Consider a quadratic function $ f(x) = x^2 + 3x - 4$\n",
        "\n",
        "### Find the value of the function $f(x)$ at points   $x=3,x=-1, x=1$."
      ]
    },
    {
      "cell_type": "code",
      "source": [
        "x = 3\n",
        "three = x**2 + x*(3) - 4\n",
        "print(three)"
      ],
      "metadata": {
        "id": "Buo-zscDcbOC",
        "colab": {
          "base_uri": "https://localhost:8080/"
        },
        "outputId": "1b390e12-08e3-40cd-b7f6-03d6d24ae7bb"
      },
      "execution_count": null,
      "outputs": [
        {
          "output_type": "stream",
          "name": "stdout",
          "text": [
            "14\n"
          ]
        }
      ]
    },
    {
      "cell_type": "code",
      "source": [
        "x = -1\n",
        "n_one = x**2 + x*(3) - 4\n",
        "print(n_one)"
      ],
      "metadata": {
        "id": "Udw_bkn5chrq",
        "colab": {
          "base_uri": "https://localhost:8080/"
        },
        "outputId": "c812447a-e25e-43a8-db5f-9063fbf304ea"
      },
      "execution_count": null,
      "outputs": [
        {
          "output_type": "stream",
          "name": "stdout",
          "text": [
            "-6\n"
          ]
        }
      ]
    },
    {
      "cell_type": "code",
      "source": [
        "x = 1\n",
        "one = x**2 + x*(3) - 4\n",
        "print(one)"
      ],
      "metadata": {
        "id": "RqIdcAqwkA2Z",
        "colab": {
          "base_uri": "https://localhost:8080/"
        },
        "outputId": "688c63c8-7a55-49cd-821d-37d52db53b99"
      },
      "execution_count": null,
      "outputs": [
        {
          "output_type": "stream",
          "name": "stdout",
          "text": [
            "0\n"
          ]
        }
      ]
    },
    {
      "cell_type": "markdown",
      "metadata": {
        "id": "EvldlcwqDelz"
      },
      "source": [
        "### Return the boolean for each value of x"
      ]
    },
    {
      "cell_type": "code",
      "source": [
        "# Check whether x = 3 is a root value of f(x)\n",
        "x = 3\n",
        "three = x**2 + x*(3) - 4\n",
        "three == 0"
      ],
      "metadata": {
        "id": "Dhjv8ClnK8s4",
        "colab": {
          "base_uri": "https://localhost:8080/"
        },
        "outputId": "373d3eab-8b84-41eb-f393-83538810ddd7"
      },
      "execution_count": null,
      "outputs": [
        {
          "output_type": "execute_result",
          "data": {
            "text/plain": [
              "False"
            ]
          },
          "metadata": {},
          "execution_count": 19
        }
      ]
    },
    {
      "cell_type": "code",
      "metadata": {
        "id": "gsNS4Ki4Del2",
        "colab": {
          "base_uri": "https://localhost:8080/"
        },
        "outputId": "bf3c8fdd-c24f-40ec-af4d-68d9b70a9110"
      },
      "source": [
        "# Check whether x = -1 is a root value of f(x)\n",
        "x = -1\n",
        "n_one = x**2 + x*(3) - 4\n",
        "n_one == 0"
      ],
      "execution_count": null,
      "outputs": [
        {
          "output_type": "execute_result",
          "data": {
            "text/plain": [
              "False"
            ]
          },
          "metadata": {},
          "execution_count": 20
        }
      ]
    },
    {
      "cell_type": "code",
      "metadata": {
        "id": "yExDY-ZXDel4",
        "colab": {
          "base_uri": "https://localhost:8080/"
        },
        "outputId": "c3f5a273-950f-4d6e-aa4e-5c19b199abc0"
      },
      "source": [
        "# Check whether 1 is a root of f(x)\n",
        "x = 1\n",
        "one = x**2 + x*(3) - 4\n",
        "one == 0"
      ],
      "execution_count": null,
      "outputs": [
        {
          "output_type": "execute_result",
          "data": {
            "text/plain": [
              "True"
            ]
          },
          "metadata": {},
          "execution_count": 21
        }
      ]
    },
    {
      "cell_type": "markdown",
      "metadata": {
        "id": "tNAI2AHRDel6"
      },
      "source": [
        "## <u> Problem 3 </u>\n",
        "\n",
        "A bag contains 45 apples, 65 oranges and 30 bananas. Find the percentage of each type of food items in the bag."
      ]
    },
    {
      "cell_type": "code",
      "metadata": {
        "id": "XJ9Rq4P3Del7"
      },
      "source": [
        "apples = 45\n",
        "oranges = 65\n",
        "bananas = 30"
      ],
      "execution_count": null,
      "outputs": []
    },
    {
      "cell_type": "code",
      "metadata": {
        "id": "S6lJZtaXDel9",
        "colab": {
          "base_uri": "https://localhost:8080/"
        },
        "outputId": "c53d4a11-7a22-4ef1-d894-d21b25b614c0"
      },
      "source": [
        "# Calculate the percentage of apples\n",
        "\n",
        "apple_percent = (100*apples)/(apples+oranges+bananas)\n",
        "print(apple_percent)"
      ],
      "execution_count": null,
      "outputs": [
        {
          "output_type": "stream",
          "name": "stdout",
          "text": [
            "32.142857142857146\n"
          ]
        }
      ]
    },
    {
      "cell_type": "code",
      "source": [
        "# Calculate the percentage of oranges\n",
        "orange_percentage = (100*oranges)/(apples+oranges+bananas)\n",
        "print(orange_percentage)"
      ],
      "metadata": {
        "id": "lE1o3E4wLkRM",
        "colab": {
          "base_uri": "https://localhost:8080/"
        },
        "outputId": "d107ee90-7755-4fca-f711-036344bc8c9e"
      },
      "execution_count": null,
      "outputs": [
        {
          "output_type": "stream",
          "name": "stdout",
          "text": [
            "46.42857142857143\n"
          ]
        }
      ]
    },
    {
      "cell_type": "code",
      "source": [
        "# Calculate the percentage of bananas\n",
        "bananas_percentage = (100*bananas)/(apples+oranges+bananas)\n",
        "print(bananas_percentage)"
      ],
      "metadata": {
        "id": "Nnm4Q7M_MNz5",
        "colab": {
          "base_uri": "https://localhost:8080/"
        },
        "outputId": "63ca6e4d-4be9-4101-a4d7-c184676131bc"
      },
      "execution_count": null,
      "outputs": [
        {
          "output_type": "stream",
          "name": "stdout",
          "text": [
            "21.428571428571427\n"
          ]
        }
      ]
    },
    {
      "cell_type": "markdown",
      "metadata": {
        "id": "F44LczfzDemD"
      },
      "source": [
        "## <u>Problem 4</u>\n",
        "\n",
        "You were playing a fun guessing game during your school break. There were a total of 100 participants excluding you. Out of these 100 people, 30 were Maths Majors, 45 were Economics Majors and 25 were Physics Majors.\n",
        "\n",
        "The game was divided into three rounds.\n",
        "\n",
        "1. In the first round, you had to guess the number of Maths Majors and you correctly guessed 20 of them.\n",
        "2. In the second round, you had to guess the number of Economics Majors and you correctly guessed 30 of them.\n",
        "3. In the final third round, you had to guess the number of Physics Majors and you correctly guessed 20 of them.\n",
        "\n",
        "### Accuracy is correct guesses upon total number of people in the group"
      ]
    },
    {
      "cell_type": "markdown",
      "metadata": {
        "id": "lkGEV_zpDemE"
      },
      "source": [
        "* ### Define your variables"
      ]
    },
    {
      "cell_type": "code",
      "metadata": {
        "id": "OfXY9LcVDemF"
      },
      "source": [
        "mathsmajors=30\n",
        "economicsmajors=45\n",
        "physicsmajors=25\n",
        "correctly_mathsmajors = 20\n",
        "correctly_economicsmajors = 30\n",
        "correctly_physicsmajors = 20"
      ],
      "execution_count": null,
      "outputs": []
    },
    {
      "cell_type": "markdown",
      "metadata": {
        "id": "Eg_Or6GmDemI"
      },
      "source": [
        "* ### Calculate your accuracy in each of the three rounds"
      ]
    },
    {
      "cell_type": "code",
      "metadata": {
        "id": "QUbDKOR3DemJ",
        "colab": {
          "base_uri": "https://localhost:8080/"
        },
        "outputId": "5302e9e3-a066-4e36-dbc5-e3590ae52830"
      },
      "source": [
        "# Calculate Maths accuracy\n",
        "math_acc = (100*correctly_mathsmajors)/mathsmajors\n",
        "print(math_acc)\n"
      ],
      "execution_count": null,
      "outputs": [
        {
          "output_type": "stream",
          "name": "stdout",
          "text": [
            "66.66666666666667\n"
          ]
        }
      ]
    },
    {
      "cell_type": "code",
      "metadata": {
        "id": "PfX4DowhDemM",
        "colab": {
          "base_uri": "https://localhost:8080/"
        },
        "outputId": "fe6cbe30-a66e-409f-cc15-6460ce2d3eec"
      },
      "source": [
        "# Calculate Economics accuracy\n",
        "eco_acc = (100*correctly_economicsmajors)/economicsmajors\n",
        "print(eco_acc)"
      ],
      "execution_count": null,
      "outputs": [
        {
          "output_type": "stream",
          "name": "stdout",
          "text": [
            "66.66666666666667\n"
          ]
        }
      ]
    },
    {
      "cell_type": "code",
      "metadata": {
        "id": "ZV-hzGKCDemP",
        "colab": {
          "base_uri": "https://localhost:8080/"
        },
        "outputId": "5bf6b0a6-2fd1-457c-b9a1-780b02104b11"
      },
      "source": [
        "# Calculate Physics accuracy\n",
        "phys_acc = (100*correctly_physicsmajors)/physicsmajors\n",
        "print(phys_acc)"
      ],
      "execution_count": null,
      "outputs": [
        {
          "output_type": "stream",
          "name": "stdout",
          "text": [
            "80.0\n"
          ]
        }
      ]
    },
    {
      "cell_type": "markdown",
      "metadata": {
        "id": "FvKZonnwDemS"
      },
      "source": [
        "* ### Calculate your overall accuracy in the entire game"
      ]
    },
    {
      "cell_type": "code",
      "metadata": {
        "id": "bQjpB6TRaSrL",
        "colab": {
          "base_uri": "https://localhost:8080/"
        },
        "outputId": "b25e35bc-7413-4109-aeba-45392662cb21"
      },
      "source": [
        "# total_accuracy\n",
        "\n",
        "over_acc = (100*(correctly_mathsmajors+correctly_economicsmajors+correctly_physicsmajors))/(mathsmajors+economicsmajors+physicsmajors)\n",
        "print(over_acc)"
      ],
      "execution_count": null,
      "outputs": [
        {
          "output_type": "stream",
          "name": "stdout",
          "text": [
            "70.0\n"
          ]
        }
      ]
    }
  ]
}